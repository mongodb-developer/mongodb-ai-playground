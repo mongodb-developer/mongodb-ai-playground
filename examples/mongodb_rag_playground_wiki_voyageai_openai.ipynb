{
  "cells": [
    {
      "cell_type": "code",
      "execution_count": 2,
      "metadata": {
        "id": "cYez8TDfsdhL"
      },
      "outputs": [],
      "source": [
        "pip install -q mongodb-ai-playground langchain_voyageai langchain-openai langchain-community wikipedia"
      ]
    },
    {
      "cell_type": "code",
      "execution_count": 1,
      "metadata": {
        "colab": {
          "base_uri": "https://localhost:8080/",
          "height": 817,
          "referenced_widgets": [
            "b80e60c958bb41e89438af5ee899fac7",
            "7760d87fa3584f40829d53df4f788ffe"
          ]
        },
        "id": "Ok_NKc0psiZO",
        "outputId": "bfe73b99-dd26-477e-c82f-ef4e8c84bedc"
      },
      "outputs": [
        {
          "data": {
            "application/vnd.jupyter.widget-view+json": {
              "model_id": "b80e60c958bb41e89438af5ee899fac7",
              "version_major": 2,
              "version_minor": 0
            },
            "text/plain": [
              "MongoDBRAGPlayground(chunks_table=[{'page_index': 0, 'chunk_index': 0, 'chunk_text': 'John Wick is an American…"
            ]
          },
          "metadata": {
            "application/vnd.jupyter.widget-view+json": {
              "colab": {
                "custom_widget_manager": {
                  "url": "https://ssl.gstatic.com/colaboratory-static/widgets/colab-cdn-widget-manager/2b70e893a8ba7c0f/manager.min.js"
                }
              }
            }
          },
          "output_type": "display_data"
        }
      ],
      "source": [
        "from mongodb_ai_playground import MongoDBRAGPlayground\n",
        "\n",
        "from pymongo import MongoClient\n",
        "from langchain_voyageai import VoyageAIEmbeddings\n",
        "from langchain_openai import ChatOpenAI\n",
        "from langchain_core.documents import Document\n",
        "\n",
        "from langchain.document_loaders import PyPDFLoader, TextLoader\n",
        "from langchain_community.document_loaders import WikipediaLoader\n",
        "\n",
        "from google.colab import userdata\n",
        "\n",
        "# Connect to Atlas cluster\n",
        "uri = userdata.get('ATLAS_URI')\n",
        "client = MongoClient(uri)\n",
        "collection = client[\"documents\"][\"chunks\"]\n",
        "\n",
        "# loader = PyPDFLoader(\"https://arxiv.org/pdf/2303.08774.pdf\")\n",
        "docs = WikipediaLoader(query=\"John Wick\", load_max_docs=2).load()\n",
        "# loader = [Document(page_content=\"John Wick is a fictional character played by Keanu Reeves.\")]\n",
        "\n",
        "# Embedding model\n",
        "embeddingModel = VoyageAIEmbeddings(\n",
        "    voyage_api_key=userdata.get('VOYAGE_API_KEY'), model=\"voyage-3-lite\"\n",
        ")\n",
        "\n",
        "# LLM Model\n",
        "llmModel = ChatOpenAI(api_key=userdata.get('OPENAI_API_KEY'), model=\"gpt-4o\")\n",
        "\n",
        "# MongoDB RAG Playground\n",
        "MongoDBRAGPlayground(client=client, mongo_collection=collection, index_name=\"vector_index\", loader=docs, embedding_model=embeddingModel, llm=llmModel)\n"
      ]
    }
  ],
  "metadata": {
    "colab": {
      "provenance": []
    },
    "kernelspec": {
      "display_name": "Python 3",
      "name": "python3"
    },
    "language_info": {
      "name": "python"
    },
    "widgets": {
      "application/vnd.jupyter.widget-state+json": {
        "7760d87fa3584f40829d53df4f788ffe": {
          "model_module": "@jupyter-widgets/base",
          "model_module_version": "1.2.0",
          "model_name": "LayoutModel",
          "state": {
            "_model_module": "@jupyter-widgets/base",
            "_model_module_version": "1.2.0",
            "_model_name": "LayoutModel",
            "_view_count": null,
            "_view_module": "@jupyter-widgets/base",
            "_view_module_version": "1.2.0",
            "_view_name": "LayoutView",
            "align_content": null,
            "align_items": null,
            "align_self": null,
            "border": null,
            "bottom": null,
            "display": null,
            "flex": null,
            "flex_flow": null,
            "grid_area": null,
            "grid_auto_columns": null,
            "grid_auto_flow": null,
            "grid_auto_rows": null,
            "grid_column": null,
            "grid_gap": null,
            "grid_row": null,
            "grid_template_areas": null,
            "grid_template_columns": null,
            "grid_template_rows": null,
            "height": null,
            "justify_content": null,
            "justify_items": null,
            "left": null,
            "margin": null,
            "max_height": null,
            "max_width": null,
            "min_height": null,
            "min_width": null,
            "object_fit": null,
            "object_position": null,
            "order": null,
            "overflow": null,
            "overflow_x": null,
            "overflow_y": null,
            "padding": null,
            "right": null,
            "top": null,
            "visibility": null,
            "width": null
          }
        },
        "b80e60c958bb41e89438af5ee899fac7": {
          "model_module": "anywidget",
          "model_module_version": "~0.9.*",
          "model_name": "AnyModel",
          "state": {
            "_anywidget_id": "mongodb_ai_playground.rag_widget.MongoDBRAGPlayground",
            "_css": "/* index.css */\n\n\n#mongodb-ai-playground {\n  height: 800px;           /* or whatever fixed height you want */\n  display: flex;\n  flex-direction: column;\n  overflow: hidden;\n  position: relative;\n}\n\n.content-wrapper {\n  flex: 1;\n  overflow-y: auto;\n  min-height: 0;\n  padding: 10px;\n}\n\n/* Error alert at the bottom */\n#error-alert, .alert.alert-danger {\n  flex-shrink: 0;\n  width: 100%;\n  box-sizing: border-box;\n  margin: 0;\n  padding: 10px;\n  overflow-y: auto;\n}\n\n/* Ensure error box is always visible above content */\n#error-alert {\n  background-color: #f8d7da;\n  color: #721c24;\n  border: 1px solid #dc3545;\n  border-radius: 8px;\n  font-weight: bold;\n  display: none;\n  padding: 10px;\n  min-height: 40px;\n  max-height: 90px;\n  overflow-y: auto;\n}\n\n#error-alert[style*=\"display: block\"] {\n  display: flex !important;\n  align-items: center;\n  justify-content: center;\n}\n\n\n#mongodb-ai-playground > .sub-tabs-nav,\n#mongodb-ai-playground > .steps-nav {\n  flex: 0 0 auto;         /* tabs/nav bars keep their natural height */\n}\n\n#mongodb-ai-playground > div:not(.sub-tabs-nav):not(.steps-nav) {\n  flex: 1 1 auto;         /* the content area fills the remaining height */\n  overflow: auto;         /* scroll if content is too tall */\n}\n\n/* Basic container styling */\n#chunking-section > div:first-child {\n  /* Adjust as needed */\n}\n\n/* The container that holds document preview and chunks table */\n#chunking-section > div:nth-child(2),\n#embedding-section,\n#rag-section {\n  display: flex;\n  gap: 3rem;\n  /*height: 500px; /* Example fixed height */\n  font-family: 'Euclid Circular A', 'Helvetica Neue', Helvetica, Arial, sans-serif;\n}\n\n/* Steps navigation */\n.steps-nav {\n  display: flex;\n  flex-direction: row;\n  justify-content: flex-start;\n  list-style: none;\n  padding: 0;\n  /* margin: 20px 0 5px 0; */\n  border-bottom: 3px solid #c1c7c6;\n\n}\n\n.step-button {\n  background: none;\n  border: none;\n  color: #c1c7c6;\n  font-size: 16px;\n  font-weight: 600;\n  line-height: 1;\n  text-transform: capitalize;\n  padding: 0.5rem 1rem;\n  cursor: pointer;\n  outline: none;\n  border-bottom: 3px solid transparent;\n  margin-bottom: -3px; /* Align with the container border */\n}\n\n.step-button:hover {\n  color: #464c4f; /* Dark green hover color */\n  background-color: transparent;\n}\n\n.active-step {\n  color: #464c4f;\n  border-bottom-color: #006400; /* Dark green bottom border for active tab */\n}\n\n.action-button {\n  /* Base button styles */\n  background: #F9FBFA;\n  border: 1px solid #889397;\n  color: #001E2B;\n  display: inline-block;\n  font-size: 13px;\n  font-weight: 500;\n  height: 36px;\n  line-height: 34px;\n  padding: 0 12px;\n  text-transform: capitalize;\n  cursor: pointer;\n  transition: all 120ms ease;\n  text-decoration: none;\n  outline: none;\n  font-family: \"Euclid Circular A\", \"Helvetica Neue\", Helvetica, Arial, sans-serif;\n  border-radius: 6px !important;\n}\n\n.action-button:hover:not([disabled]),\n.action-button:active:not([disabled]) {\n  /* Hover / active state */\n  color: #001E2B;\n  background: #F9FBFA;\n  box-shadow: 0 0 0 3px #E8EDEB;\n  outline: 0;\n}\n\n/* Labels and inputs */\nlabel {\n  display: block;\n  margin: 0.5rem 0 0.2rem;\n  font-weight: bold;\n}\n\ninput[type=\"range\"],\nselect {\n  width: 100%;\n  max-width: 300px;\n  margin-bottom: 0.5rem;\n}\n\nbutton {\n    background: #00684A;\n    border: 1px solid #00684A;\n    color: #FFFFFF;\n    display: inline-block;\n    font-size: 13px;\n    font-weight: 500;\n    height: 36px;\n    line-height: 34px;\n    padding: 0 12px;\n    margin-top: 8px;\n    margin-right: 8px;\n    transition: all 120ms ease;\n    text-decoration: none;\n    cursor: pointer;\n    transition: background-color 0.2s ease-in, color 0.2s ease-in;\n    background-color: #077355;\n}\n\nbutton:hover {\n  background-color: #066355;\n  color: #FFF;\n}\n\n\n/* Textarea styling to look nicer */\ntextarea {\n  background-color: #f9f9f9;\n  border: 1px solid #ddd;\n  border-radius: 6px;\n  padding: 0.5rem;\n  font-family: \"Source Code Pro\", Menlo, monospace;\n  font-size: 14px;\n  color: #333;\n  resize: vertical;\n}\n\ntextarea:focus {\n  outline: none;\n  border-color: #0b5d3a;\n}\n\n/* Error message */\n/* .error-message not used for new error box, but keep for legacy */\n.error-message {\n  display: none;\n}\n\n/* Settings controls */\n#settings-section {\n  display: flex;\n  gap: 1rem;\n  align-items: flex-end;\n  flex-wrap: wrap;\n  margin-bottom: 0.75rem;\n}\n\n#settings-section label {\n  display: inline-block;\n  max-width: 100%;\n  margin-bottom: 0;\n  font-weight: 700;\n  text-transform: uppercase;\n  color: #889397;\n  font-size: 9px;\n  padding-right: 9px;\n}\n\n#settings-section select {\n  border: 1px solid #E8EDEB;\n  border-radius: 3px;\n  font-weight: 700;\n  font-size: 12px;\n  margin-right: 10px;\n  width: 95px;\n  margin-bottom: 0.5rem;\n}\n\n#settings-section input[type=\"range\"] {\n  width: 150px;\n  margin-bottom: 0.5rem;\n}\n\n/* Document preview box */\n#document-view {\n  flex: 1;\n  overflow-y: auto;\n  border: 1px solid #e0e0e0;\n  border-radius: 8px;\n  padding: 1rem;\n  background: #fff;\n  height: 450px;\n  white-space: pre-wrap;\n}\n\n/* Chunks table container */\n#chunks-table-container {\n  flex: 1;\n  overflow-y: auto;\n}\n\n#doc-list-container {\n  flex: 1;\n  overflow-y: auto;\n  height: 500px;\n  gap: 1rem;\n  padding: 0rem;\n}\n\n/* The container for all chunk \"cards\" */\n.chunk-card-container {\n  display: flex;\n  flex-direction: column;\n  overflow-y: auto;\n  height: 500px;\n  gap: 1rem;\n  padding: 0rem;\n}\n\n/* Each chunk card */\n.chunk-card {\n  position: relative;\n  background: #f9f9f9;\n  border-radius: 8px;\n  border: 1px solid #ddd;\n  padding: 1rem;\n}\n\n/* The tag showing page & chunk # */\n.chunk-tag {\n  position: absolute;\n  top: 0.5rem;\n  right: 0.5rem;\n  background: #fff;\n  color: #333;\n  border: 1px solid #ccc;\n  border-radius: 9999px;\n  font-size: 0.75rem;\n  padding: 0.2rem 0.6rem;\n  text-transform: uppercase;\n}\n\n/* Chunk text area */\n.chunk-text {\n  margin-top: 1.5rem;\n  white-space: pre-wrap;\n}\n\n/* Mongo doc list */\n.doc-card-container {\n  display: flex;\n  flex-direction: column;\n  gap: 1rem;\n  margin-top: 0rem;\n}\n\n.doc-card {\n  background: #fff;\n  padding: 1rem;\n  border: 1px solid #e1e4e8;\n  border-radius: 6px;\n  font-family: \"Source Code Pro\", Menlo, monospace;\n  font-size: 12px;\n}\n\n.doc-key {\n  font-weight: bold;\n  color: #000;\n  margin-right: 0.5rem;\n}\n\n.doc-value {\n  color: #24292e;\n}\n\n.doc-value-id {\n  color: #D9472B;\n}\n\n.doc-value-text {\n  color: #5aa381;\n}\n\n.doc-value-embedding {\n  color: #3A80EA;\n  white-space: pre-wrap;\n}\n\n/* RAG doc cards (retrieved documents) */\n.doc-tag {\n  background: #fff;\n  color: #333;\n  border: 1px solid #ccc;\n  border-radius: 9999px;\n  font-size: 0.75rem;\n  padding: 0.2rem 0.6rem;\n}\n\n/* Green text for final prompt's documents */\n.green-doc-text {\n  color: #0b5d3a; /* Same dark green used for buttons */\n}\n\n.sub-tabs-nav {\n  margin-bottom: 1rem;\n}\n\n#final-prompt-container {\n  flex: 1 1 auto;\n  overflow-y: auto;\n  border: 1px solid #e0e0e0;\n  border-radius: 8px;\n  padding: 1rem;\n  max-height: 300px;\n  width: 100% !important; \n  background: #fff;\n  white-space: pre-wrap;\n}\n\n#rag-results { min-width: 0; }\n\n\n#final-prompt-container pre {\n  white-space: pre-wrap;\n  word-break: break-word;        /* break long tokens that were forcing the column wider */\n  overflow-wrap: anywhere;\n}\n\n.loader {\n  border: 5px solid #f3f3f3; /* Light grey */\n  border-top: 5px solid #3498db; /* Blue */\n  border-radius: 50%;\n  width: 20px;\n  height: 20px;\n  animation: spin 2s linear infinite;\n  display: inline-block;\n}\n\n@keyframes spin {\n  0% { transform: rotate(0deg); }\n  100% { transform: rotate(360deg); }\n}\n\n.loading {\n  color: #888888;\n}\n\n.section-titles {\n  font-weight: 700;\n  text-transform: uppercase;\n  color: #889397;\n  font-size: 9px;\n  padding-right: 9px;\n  margin-top: 0px;\n  margin-bottom: 1rem; \n}",
            "_dom_classes": [],
            "_esm": "// index.js\n\n// Global error management\nlet errorBox = null;\n\nfunction showError(message) {\n  if (!errorBox) return;\n  if (message && message.length > 0) {\n    errorBox.innerHTML = message;\n    errorBox.style.display = \"block\";\n  } else {\n    errorBox.innerHTML = \"\";\n    errorBox.style.display = \"none\";\n  }\n}\n\nfunction createElement(tag, { id, className, innerHTML, style } = {}) {\n  const el = document.createElement(tag);\n  if (id) el.id = id;\n  if (className) el.className = className;\n  if (innerHTML !== undefined) el.innerHTML = innerHTML;\n  if (style) Object.assign(el.style, style);\n  return el;\n}\n\nfunction createButton(text, className = \"step-button\") {\n  return createElement(\"button\", { innerHTML: text, className });\n}\n\nfunction createNavBar(tabs, containerClass) {\n  const nav = createElement(\"div\", { className: containerClass });\n  const buttons = tabs.map((tab) => {\n    const btn = createButton(tab.name);\n    nav.appendChild(btn);\n    return btn;\n  });\n  return { nav, buttons };\n}\n\nfunction createSection(id, display = \"none\", innerHTML = \"\") {\n  return createElement(\"div\", { id, innerHTML, style: { display } });\n}\n\nfunction createSliderControl({ labelText, min, max, initialValue, onChange, debounceTime = 500 }) {\n  const container = createElement(\"div\");\n  const label = createElement(\"label\", { innerHTML: labelText });\n  const slider = createElement(\"input\");\n  slider.type = \"range\";\n  slider.min = min;\n  slider.max = max;\n  slider.value = initialValue;\n  const valueSpan = createElement(\"span\", { innerHTML: initialValue });\n  container.append(label, slider, valueSpan);\n  let timer = null;\n  slider.addEventListener(\"input\", () => {\n    valueSpan.innerHTML = slider.value;\n    if (timer) clearTimeout(timer);\n    timer = setTimeout(() => onChange(parseInt(slider.value)), debounceTime);\n  });\n  return { container, slider, label, valueSpan };\n}\n\nfunction createSelectControl({ labelText, options, selectedValue, onChange }) {\n  const container = createElement(\"div\", { className: \"control-group\" });\n  const label = createElement(\"label\", { innerHTML: labelText });\n  const select = createElement(\"select\");\n  options.forEach((opt) => {\n    const option = createElement(\"option\", { innerHTML: opt });\n    option.value = opt;\n    if (opt === selectedValue) option.selected = true;\n    select.appendChild(option);\n  });\n  select.addEventListener(\"change\", () => onChange(select.value));\n  container.append(label, select);\n  return { container, select, label };\n}\n\nfunction render({ model, el }) {\n  // Clear container\n  el.id = \"mongodb-ai-playground\";\n  el.innerHTML = \"\";\n\n  // Create a wrapper for all content except error box\n  const contentWrapper = createElement(\"div\", { className: \"content-wrapper\" });\n  el.appendChild(contentWrapper);\n\n  //------------------------------------------------------------\n  // Top-Level Tabs\n  //------------------------------------------------------------\n  const topTabs = [{ name: \"RAG\", value: 1 }];\n  const { nav: topNav, buttons: topButtons } = createNavBar(topTabs, \"steps-nav\");\n  contentWrapper.appendChild(topNav);\n\n  // Error Alert Box will be appended as the last child (bottom of widget)\n\n  //------------------------------------------------------------\n  // Sub-Tabs\n  //------------------------------------------------------------\n  const ragTabs = [\n    { name: \"Chunking →\", value: 1 },\n    { name: \"Embedding & Ingestion →\", value: 2 },\n    { name: \"Question Answering\", value: 3 },\n  ];\n  const { nav: ragSubNav, buttons: ragSubButtons } = createNavBar(ragTabs, \"sub-tabs-nav\");\n\n  const graphRagTabs = [\n    { name: \"Knowledge Graph Creation →\", value: 1 },\n    { name: \"Question Answering\", value: 2 },\n  ];\n  const { nav: graphRAGSubNav, buttons: graphRagSubButtons } = createNavBar(graphRagTabs, \"sub-tabs-nav\");\n\n  const textMqlTabs = [{ name: \"test\", value: 1 }];\n  const { nav: textMqlSubNav, buttons: textMqlSubButtons } = createNavBar(textMqlTabs, \"sub-tabs-nav\");\n\n  //------------------------------------------------------------\n  // Error Alert Box - After Sub-Tabs\n  //------------------------------------------------------------\n  const errorContainer = createElement(\"div\", {\n    style: {\n      width: \"100%\",\n      marginTop: \"10px\",\n      marginBottom: \"10px\"\n    }\n  });\n  \n  errorBox = createElement(\"div\", { \n    id: \"error-alert\", \n    className: \"alert alert-danger\", \n    innerHTML: \"\",\n    style: { \n      display: \"none\", \n      padding: \"10px\", \n      border: \"1px solid #dc3545\", \n      borderRadius: \"8px\",\n      backgroundColor: \"#f8d7da\", \n      color: \"#721c24\",\n      fontWeight: \"bold\",\n      height: \"60px\",\n      overflowY: \"auto\"\n    } \n  });\n  \n  errorContainer.appendChild(errorBox);\n\n  //------------------------------------------------------------\n  // RAG Sections & Subsections\n  //------------------------------------------------------------\n  const ragContainer = createElement(\"div\");\n\n  // Chunking Section\n  const chunkingSection = createSection(\"chunking-section\", \"none\");\n  ragContainer.appendChild(chunkingSection);\n\n  // Settings\n  const settingsDiv = createSection(\"settings-section\", \"block\");\n\n  // Split Strategy Select\n  const splitStrategy = model.get(\"split_strategy\");\n  const splitSelectControl = createSelectControl({\n    labelText: \"Split Strategy:\",\n    options: [\"Fixed\", \"Recursive\", \"Markdown\"],\n    selectedValue: splitStrategy,\n    onChange: (val) => {\n      model.set(\"split_strategy\", val);\n      model.save_changes();\n      toggleOverlapUI();\n    },\n  });\n  settingsDiv.appendChild(splitSelectControl.container);\n\n  // Chunk Size Slider\n  const chunkSize = model.get(\"chunk_size\");\n  const { container: chunkSliderContainer, slider: chunkSlider, valueSpan: chunkValSpan } =\n    createSliderControl({\n      labelText: \"Chunk Size (1 - 2000): \",\n      min: \"1\",\n      max: \"2000\",\n      initialValue: chunkSize,\n      onChange: (val) => {\n        model.set(\"chunk_size\", val);\n        model.save_changes();\n      },\n    });\n  settingsDiv.appendChild(chunkSliderContainer);\n\n  // Overlap Size Slider\n  const overlapSize = model.get(\"overlap_size\");\n  const { container: overlapSliderContainer, slider: overlapSlider, label: overlapLabel, valueSpan: overlapValSpan } =\n    createSliderControl({\n      labelText: \"Overlap Size (0 - 500): \",\n      min: \"0\",\n      max: \"500\",\n      initialValue: overlapSize,\n      onChange: (val) => {\n        model.set(\"overlap_size\", val);\n        model.save_changes();\n      },\n    });\n  settingsDiv.appendChild(overlapSliderContainer);\n  chunkingSection.appendChild(settingsDiv);\n\n  // Document Preview + Chunks Table (Two Columns)\n  const docDiv = createElement(\"div\", {\n    id: \"document-view\",\n    innerHTML: model.get(\"document_preview\") || \"Loading document preview...\",\n    style: { flex: \"1\" },\n  });\n  const chunkTableDiv = createElement(\"div\", { id: \"chunks-table-container\", style: { flex: \"1\" } });\n  const previewContainer = createElement(\"div\", { style: { display: \"flex\", gap: \"2rem\" } });\n  previewContainer.append(docDiv, chunkTableDiv);\n  chunkingSection.appendChild(previewContainer);\n\n  // Pagination Controls\n  const paginationDiv = createElement(\"div\", { id: \"pagination-controls\" });\n  const prevBtn = createButton(\"Previous Page\", \"action-button\");\n  prevBtn.addEventListener(\"click\", () => {\n    const currentIdx = model.get(\"current_doc_index\") || 0;\n    if (currentIdx > 0) {\n      model.set(\"current_doc_index\", currentIdx - 1);\n      model.save_changes();\n    }\n  });\n  const nextBtn = createButton(\"Next Page\", \"action-button\");\n  nextBtn.addEventListener(\"click\", () => {\n    const currentIdx = model.get(\"current_doc_index\") || 0;\n    model.set(\"current_doc_index\", currentIdx + 1);\n    model.save_changes();\n  });\n  paginationDiv.append(prevBtn, nextBtn);\n  chunkingSection.appendChild(paginationDiv);\n\n  // Embedding & Ingestion Section (Updated)\n  const embeddingSection = createSection(\"embedding-section\", \"none\");\n  ragContainer.appendChild(embeddingSection);\n  const embeddingContainer = createElement(\"div\", { style: { display: \"flex\", gap: \"2rem\" } });\n  const chunkListDiv = createElement(\"div\", { style: { flex: \"1\" }, innerHTML: \"<h4 class='section-titles'>Chunks</h4>\" });\n  embeddingContainer.appendChild(chunkListDiv);\n  // Pagination controls for embedding tab\n  const embeddingPaginationDiv = createElement(\"div\", { id: \"embedding-pagination-controls\" });\n  const embeddingPrevBtn = createButton(\"Previous Page\", \"action-button\");\n  embeddingPrevBtn.addEventListener(\"click\", () => {\n    const currentIdx = model.get(\"current_doc_index\") || 0;\n    if (currentIdx > 0) {\n      model.set(\"current_doc_index\", currentIdx - 1);\n      model.save_changes();\n    }\n  });\n  const embeddingNextBtn = createButton(\"Next Page\", \"action-button\");\n  embeddingNextBtn.addEventListener(\"click\", () => {\n    const currentIdx = model.get(\"current_doc_index\") || 0;\n    model.set(\"current_doc_index\", currentIdx + 1);\n    model.save_changes();\n  });\n  embeddingPaginationDiv.append(embeddingPrevBtn, embeddingNextBtn);\n  chunkListDiv.appendChild(embeddingPaginationDiv);\n  // Ensure the chunk list updates with page changes\n  model.on(\"change:current_doc_index\", renderChunkListForEmbedding);\n  // Initial render\n  renderChunkListForEmbedding();\n\n  // Create a header container for \"Documents in MongoDB\" and the Load button side by side\n  const docListColumn = createElement(\"div\", { style: { flex: \"1\" } });\n  const docHeaderContainer = createElement(\"div\", {\n    style: { display: \"flex\", alignItems: \"center\", justifyContent: \"space-between\" }\n  });\n  const docsHeader = createElement(\"h4\", { innerHTML: \"Documents in MongoDB\" });\n  const loadButton = createButton(\"Load into MongoDB\", \"action-button\");\n  loadButton.id = \"loadButton\";\n  loadButton.addEventListener(\"click\", () => {\n    model.set(\"command\", \"load_into_mongo\");\n    model.save_changes();\n    // Poll until mongo_docs_table is populated, then render using the latest container reference\n    const checkDocsLoaded = setInterval(() => {\n      const docs = model.get(\"mongo_docs_table\");\n      if (docs && docs.length > 0) {\n        clearInterval(checkDocsLoaded);\n        renderMongoDocsList();\n      }\n    }, 500);\n  });\n  docHeaderContainer.append(docsHeader, loadButton);\n  docListColumn.appendChild(docHeaderContainer);\n\n  // Container for MongoDB documents list\n  const docListDiv = createElement(\"div\", { id: \"doc-list-container\" });\n  docListColumn.appendChild(docListDiv);\n  embeddingContainer.appendChild(docListColumn);\n  embeddingSection.appendChild(embeddingContainer);\n\n  // Question Answering Section\n  const qaSection = createSection(\"rag-section\", \"none\");\n  ragContainer.appendChild(qaSection);\n  // create the flex container and force its children to align at the top\n  const ragMainContainer = createElement(\"div\", {\n    style: { display: \"flex\", alignItems: \"flex-start\", gap: \"2rem\"},\n  });\n\n  const leftCol = createElement(\"div\", {\n    style: { flex: \"1 1 0%\", display: \"flex\", flexDirection: \"column\", minWidth: \"0\" },\n  });\n  // move the QA heading inside the left column so it sits level with the right column's header\n  const ragTitle = createElement(\"h4\", { innerHTML: \"Question\" });\n  leftCol.appendChild(ragTitle);\n  const rightCol = createElement(\"div\", {\n    style: { flex: \"1 1 0%\", minWidth: \"0\" },\n  });\n  // Question Input & Send Button\n  const questionContainer = createElement(\"div\");\n  const ragQueryArea = createElement(\"textarea\", {\n    placeholder: \"Ask your question here...\",\n    rows: \"4\",\n    style: { width: \"100%\" },\n  });\n  ragQueryArea.addEventListener(\"input\", () => {\n    model.set(\"rag_query\", ragQueryArea.value);\n    model.save_changes();\n  });\n  questionContainer.appendChild(ragQueryArea);\n  const ragSendBtn = createButton(\"Send\", \"action-button\");\n  questionContainer.appendChild(ragSendBtn);\n\n  // Answer Display\n  const answerContainer = createElement(\"div\");\n  const answerDiv = createElement(\"div\", { id: \"rag-answer\" });\n  answerContainer.appendChild(answerDiv);\n\n  // Prompt Template Editor\n  const promptTemplateContainer = createElement(\"div\");\n  const promptTemplateLabel = createElement(\"h4\", { innerHTML: \"Prompt Template\" });\n  promptTemplateContainer.appendChild(promptTemplateLabel);\n  const promptEditor = createElement(\"textarea\", {\n    placeholder: \"Modify your RAG prompt template here...\",\n    rows: \"5\",\n    style: { width: \"100%\", whiteSpace: \"pre-wrap\", overflowWrap: \"break-word\" },\n  });\n  promptEditor.value = model.get(\"rag_prompt_template\") || \"\";\n  promptEditor.addEventListener(\"keydown\", (event) => event.stopPropagation());\n  promptEditor.addEventListener(\"input\", () => {\n    model.set(\"rag_prompt_template\", promptEditor.value);\n    model.save_changes();\n  });\n  promptTemplateContainer.appendChild(promptEditor);\n\n  // Final Prompt Display (container only)\n  const finalPromptContainer = createElement(\"div\", {\n    id: \"final-prompt-container\",\n    style: { flex: \"1 1 auto\", maxHeight: \"300px\", overflowY: \"auto\" },\n  });\n  const promptDiv = createElement(\"div\", { id: \"rag-prompt\" });\n  finalPromptContainer.appendChild(promptDiv);\n\n  rightCol.appendChild(createElement(\"div\", { id: \"rag-results\" }));\n  const finalPromptHeader = createElement(\"h4\", { innerHTML: \"Final Prompt Used\" });\n  leftCol.append(questionContainer, answerContainer, promptTemplateContainer, finalPromptHeader, finalPromptContainer);\n  ragMainContainer.append(leftCol, rightCol);\n  qaSection.appendChild(ragMainContainer);\n\n  ragSendBtn.addEventListener(\"click\", () => {\n    answerDiv.innerHTML = \"\";\n    document.getElementById(\"rag-results\").innerHTML = \"\";\n    model.set(\"command\", \"rag_ask\");\n    model.save_changes();\n  });\n\n  //------------------------------------------------------------\n  // GraphRAG & text-to-MQL Sections\n  //------------------------------------------------------------\n  const graphRagContainer = createElement(\"div\");\n  const knowledgeGraphSection = createElement(\"div\", {\n    innerHTML: \"<h3>Knowledge Graph Creation</h3><p>TODO: Add content here.</p>\",\n    style: { display: \"none\" },\n  });\n  const graphRagQaSection = createElement(\"div\", {\n    innerHTML: \"<h3>GraphRAG Question Answering</h3><p>TODO: Add content here.</p>\",\n    style: { display: \"none\" },\n  });\n  graphRagContainer.append(knowledgeGraphSection, graphRagQaSection);\n\n  const textMqlContainer = createElement(\"div\");\n  const textMqlTestSection = createElement(\"div\", {\n    innerHTML: \"<h3>text-to-mql: test</h3><p>Placeholder content here.</p>\",\n    style: { display: \"none\" },\n  });\n  textMqlContainer.appendChild(textMqlTestSection);\n\n  //------------------------------------------------------------\n  // Helper: Set Active Tabs & Toggle Overlap UI\n  //------------------------------------------------------------\n  function setActiveTabButtons(buttons, currentValue, tabDefs, modelKey) {\n    buttons.forEach((btn, idx) => {\n      btn.classList.remove(\"active-step\");\n      if (tabDefs[idx].value === currentValue) btn.classList.add(\"active-step\");\n      btn.onclick = () => {\n        model.set(modelKey, tabDefs[idx].value);\n        model.save_changes();\n      };\n    });\n  }\n\n  function toggleOverlapUI() {\n    overlapSlider.disabled = false;\n    overlapLabel.style.color = \"\";\n    overlapValSpan.style.color = \"\";\n  }\n\n  //------------------------------------------------------------\n  // Render Functions\n  //------------------------------------------------------------\n  function renderChunksTable() {\n    const allChunks = model.get(\"chunks_table\") || [];\n    const currentPageIndex = model.get(\"current_doc_index\");\n    const filteredChunks = allChunks.filter((row) => row.page_index === currentPageIndex);\n    if (!filteredChunks.length) {\n      chunkTableDiv.innerHTML = \"<p>No chunk data for this page.</p>\";\n      return;\n    }\n    let html = '<div class=\"chunk-card-container\">';\n    filteredChunks.forEach((row) => {\n      html += `\n        <div class=\"chunk-card\">\n          <span class=\"chunk-tag\">Page ${row.page_index}, Chunk ${row.chunk_index}</span>\n          <div class=\"chunk-text\">${row.chunk_text}</div>\n        </div>\n      `;\n    });\n    html += \"</div>\";\n    chunkTableDiv.innerHTML = html;\n  }\n\n  function renderChunkListForEmbedding() {\n    let allChunks = model.get(\"embeddings_table\") || model.get(\"chunks_table\") || [];\n    const currentPageIndex = model.get(\"current_doc_index\");\n    const filteredChunks = allChunks.filter((row) => row.page_index === currentPageIndex);\n    if (!filteredChunks.length) {\n      chunkListDiv.innerHTML = \"<h4>Chunks</h4><p>No chunks to display for this page.</p>\";\n      return;\n    }\n    let html = \"<h4>Chunks</h4><div class='chunk-card-container'>\";\n    filteredChunks.forEach((row) => {\n      html += `\n        <div class=\"chunk-card\">\n          <span class=\"chunk-tag\">Page ${row.page_index}, Chunk ${row.chunk_index}</span>\n          <div class=\"chunk-text\">${row.chunk_text}</div>\n        </div>\n      `;\n    });\n    html += \"</div>\";\n    chunkListDiv.innerHTML = html;\n  }\n\n  // Update renderMongoDocsList to remove the header (since it’s now static above)\n  function renderMongoDocsList() {\n    const docListDiv = document.getElementById(\"doc-list-container\");\n    if (!docListDiv) return;\n    const mongoDocs = model.get(\"mongo_docs_table\") || [];\n    if (!mongoDocs.length) {\n      docListDiv.innerHTML = \"<p>No documents loaded yet.</p>\";\n      return;\n    }\n    let html = \"<div class='doc-card-container'>\";\n    mongoDocs.forEach((doc) => {\n      const embedding = Array.isArray(doc.embedding) ? doc.embedding.join(\", \") : \"N/A\";\n      html += `\n          <div class=\"doc-card\">\n            <div><span class=\"doc-key\">_id:</span> <span class=\"doc-value doc-value-id\">${doc._id}</span></div>\n            <div><span class=\"doc-key\">text:</span> <span class=\"doc-value doc-value-text\">${doc.text}</span></div>\n            <div><span class=\"doc-key\">embedding:</span> <span class=\"doc-value doc-value-embedding\">[${embedding}]</span></div>\n          </div>\n        `;\n    });\n    html += \"</div>\";\n    docListDiv.innerHTML = html;\n  }\n\n  function renderRAGResults() {\n    const results = model.get(\"rag_results\") || [];\n    const ragResultsDivLocal = document.getElementById(\"rag-results\");\n    if (!ragResultsDivLocal) return;\n    if (!results.length) {\n      ragResultsDivLocal.innerHTML = \"<p>No retrieved documents yet.</p>\";\n      return;\n    }\n    let html = \"<h4>Retrieved documents from Atlas Vector Search</h4><div class='doc-card-container'>\";\n    results.forEach((r, idx) => {\n      const docId = r.metadata && r.metadata._id ? r.metadata._id : `Doc ${idx + 1}`;\n      const docEmbedding =\n        r.metadata && r.metadata.embedding\n          ? JSON.stringify(r.metadata.embedding).slice(0, 100)\n          : \"N/A\";\n      html += `\n        <div class=\"doc-card\" style=\"position:relative;\">\n          <span class=\"doc-tag\" style=\"position:absolute; top:0.5rem; right:0.5rem;\">\n            Similarity: ${r.score.toFixed(4)}\n          </span>\n          <div>\n            <span class=\"doc-key\">_id:</span>\n            <span class=\"doc-value doc-value-id\">${docId}</span>\n          </div>\n          <div>\n            <span class=\"doc-key\">content:</span>\n            <span class=\"doc-value doc-value-text\">${r.content}</span>\n          </div>\n          <div>\n            <span class=\"doc-key\">embedding:</span>\n            <span class=\"doc-value doc-value-embedding\">${docEmbedding}</span>\n          </div>\n        </div>\n      `;\n    });\n    html += \"</div>\";\n    ragResultsDivLocal.innerHTML = html;\n  }\n\n  function escapeHtml(text) {\n    return text.replace(/&/g, \"&amp;\").replace(/</g, \"&lt;\").replace(/>/g, \"&gt;\");\n  }\n\n  function renderRAGPrompt() {\n    const template =\n      model.get(\"rag_prompt_template\") ||\n      \"You are a helpful AI. Given the following context, answer the question.\\nContext: {context}\\nQuestion: {question}\";\n    const question = model.get(\"rag_query\") || \"\";\n    const results = model.get(\"rag_results\") || [];\n    const contextStr = results.map((r) => r.content).join(\"\\n\\n\");\n    let finalPrompt = template.replace(\"{context}\", contextStr).replace(\"{question}\", question);\n    if (contextStr.trim()) {\n      finalPrompt = finalPrompt.replace(contextStr, `${contextStr}`);\n    }\n    // find the container\n    const promptDivLocal = document.getElementById(\"rag-prompt\");\n    if (promptDivLocal) {\n      // clear any previous HTML\n      promptDivLocal.innerHTML = \"\";\n      // create heading\n      const heading = document.createElement(\"h4\");\n\n      // create <pre> and set textContent so tags show literally\n      const pre = document.createElement(\"pre\");\n      pre.textContent = finalPrompt;\n      // append to container\n      promptDivLocal.appendChild(heading);\n      promptDivLocal.appendChild(pre);\n    }\n    model.set(\"rag_prompt\", finalPrompt);\n    model.save_changes();\n  }\n\n  function renderRAGAnswer() {\n    const answer = model.get(\"rag_answer\") || \"\";\n    let html = \"<h4>Answer</h4>\";\n    html += `<pre style=\"white-space:pre-wrap;\">${answer}</pre>`;\n    const answerDivLocal = document.getElementById(\"rag-answer\");\n    if (answerDivLocal) answerDivLocal.innerHTML = html;\n  }\n\n  //------------------------------------------------------------\n  // Show Active Sections Based on Tabs\n  //------------------------------------------------------------\n  function showActiveSections() {\n    [ragSubNav, graphRAGSubNav, textMqlSubNav, ragContainer, graphRagContainer, textMqlContainer].forEach(\n      (elem) => {\n        if (elem.parentNode) elem.parentNode.removeChild(elem);\n      }\n    );\n\n    const mainTab = model.get(\"main_tab\") || 1;\n    setActiveTabButtons(topButtons, mainTab, topTabs, \"main_tab\");\n\n    if (mainTab === 1) {\n      contentWrapper.appendChild(ragSubNav);\n      contentWrapper.appendChild(ragContainer);\n      const ragSub = model.get(\"rag_sub_tab\") || 1;\n      setActiveTabButtons(ragSubButtons, ragSub, ragTabs, \"rag_sub_tab\");\n\n      chunkingSection.style.display = ragSub === 1 ? \"block\" : \"none\";\n      embeddingSection.style.display = ragSub === 2 ? \"block\" : \"none\";\n      qaSection.style.display = ragSub === 3 ? \"block\" : \"none\";\n\n      if (ragSub === 1) renderChunksTable();\n      else if (ragSub === 2) {\n        renderChunkListForEmbedding();\n        renderMongoDocsList();\n      } else if (ragSub === 3) {\n        renderRAGResults();\n        renderRAGPrompt();\n        renderRAGAnswer();\n      }\n    } else if (mainTab === 2) {\n      contentWrapper.appendChild(graphRAGSubNav);\n      contentWrapper.appendChild(graphRagContainer);\n      const gSub = model.get(\"graph_rag_sub_tab\") || 1;\n      setActiveTabButtons(graphRagSubButtons, gSub, graphRagTabs, \"graph_rag_sub_tab\");\n      knowledgeGraphSection.style.display = gSub === 1 ? \"block\" : \"none\";\n      graphRagQaSection.style.display = gSub === 2 ? \"block\" : \"none\";\n    } else {\n      contentWrapper.appendChild(textMqlSubNav);\n      contentWrapper.appendChild(textMqlContainer);\n      const tSub = model.get(\"text_mql_sub_tab\") || 1;\n      setActiveTabButtons(textMqlSubButtons, tSub, textMqlTabs, \"text_mql_sub_tab\");\n      textMqlTestSection.style.display = tSub === 1 ? \"block\" : \"none\";\n    }\n\n    // ensure error box shows at the bottom of the widget\n    if (!document.getElementById(\"error-alert\")) {\n      el.appendChild(errorContainer);\n    }\n  }\n\n  //------------------------------------------------------------\n  // Model Observers\n  //------------------------------------------------------------\n  model.on(\"change:main_tab\", showActiveSections);\n  model.on(\"change:rag_sub_tab\", showActiveSections);\n  model.on(\"change:graph_rag_sub_tab\", showActiveSections);\n  model.on(\"change:text_mql_sub_tab\", showActiveSections);\n\n  model.on(\"change:document_preview\", () => {\n    const docDivLocal = document.getElementById(\"document-view\");\n    if (docDivLocal) docDivLocal.innerHTML = model.get(\"document_preview\") || \"\";\n  });\n  model.on(\"change:chunks_table\", renderChunksTable);\n  model.on(\"change:current_doc_index\", renderChunksTable);\n  model.on(\"change:split_strategy\", () => {\n    splitSelectControl.select.value = model.get(\"split_strategy\");\n    toggleOverlapUI();\n    renderChunksTable();\n  });\n  model.on(\"change:chunk_size\", () => {\n    chunkSlider.value = model.get(\"chunk_size\");\n    chunkValSpan.innerText = model.get(\"chunk_size\");\n    renderChunksTable();\n  });\n  model.on(\"change:overlap_size\", () => {\n    overlapSlider.value = model.get(\"overlap_size\");\n    overlapValSpan.innerText = model.get(\"overlap_size\");\n    renderChunksTable();\n  });\n  model.on(\"change:embeddings_table\", () => {\n    if (model.get(\"main_tab\") === 1 && model.get(\"rag_sub_tab\") === 2) renderChunkListForEmbedding();\n  });\n  model.on(\"change:mongo_docs_table\", () => {\n    if (model.get(\"main_tab\") === 1 && model.get(\"rag_sub_tab\") === 2) renderMongoDocsList();\n  });\n  model.on(\"change:rag_results\", () => {\n    renderRAGResults();\n    renderRAGPrompt();\n  });\n  model.on(\"change:rag_query\", renderRAGPrompt);\n  model.on(\"change:rag_prompt_template\", () => {\n    promptEditor.value = model.get(\"rag_prompt_template\") || \"\";\n    renderRAGPrompt();\n  });\n  model.on(\"change:rag_prompt\", renderRAGPrompt);\n  model.on(\"change:rag_answer\", renderRAGAnswer);\n\n  // Listen for changes to the error traitlet\n  // Listen for error changes from the model\n  model.on(\"change:error\", () => {\n    const error = model.get(\"error\");\n    showError(error);\n  });\n  \n  // Also check for custom messages\n  model.on(\"msg:custom\", (event) => {\n    if (event.type === \"update_error\") {\n      showError(event.error);\n    }\n  });\n\n  //------------------------------------------------------------\n  // Error Alert Box will be added after the tabs\n\n  //------------------------------------------------------------\n  // Initial Setup\n  //------------------------------------------------------------\n  showActiveSections();\n  renderChunksTable();\n  if (model.get(\"main_tab\") === 1 && model.get(\"rag_sub_tab\") === 2) {\n    renderChunkListForEmbedding();\n    renderMongoDocsList();\n  }\n  if (model.get(\"main_tab\") === 1 && model.get(\"rag_sub_tab\") === 3) {\n    renderRAGResults();\n    renderRAGPrompt();\n    renderRAGAnswer();\n  }\n\n}\n\nexport default { render };\n",
            "_model_module": "anywidget",
            "_model_module_version": "~0.9.*",
            "_model_name": "AnyModel",
            "_view_count": null,
            "_view_module": "anywidget",
            "_view_module_version": "~0.9.*",
            "_view_name": "AnyView",
            "chunk_size": 512,
            "chunks_table": [
              {
                "chunk_index": 0,
                "chunk_text": "John Wick is an American media franchise created by Derek Kolstad. It centers on a neo-noir action thriller film series featuring titular character portrayed by Keanu Reeves. Wick is a legendary hitman who is reluctantly drawn back into the criminal underworld after retiring. The franchise began with the release of John Wick (2014), which was followed by three sequels: Chapter 2 (2017), Chapter 3 – Parabellum (2019), and Chapter 4 (2023). Various spin-offs expanded the franchise: the prequel comic book seri",
                "end_offset": 512,
                "page_index": 0,
                "start_offset": 0
              },
              {
                "chunk_index": 1,
                "chunk_text": "es John Wick: The Book of Rules (2017–2019), the prequel television miniseries The Continental (2023), and the spinoff film Ballerina (2025), all incorporating elements of alternate history.\nThe films have received critical acclaim, and have been considered one of the greatest action film series of all time. Some critics and publications consider the first film, as well as Chapter 4, as two of the greatest action films ever made. The films have earned a collective gross of more than $1 billion worldwide.\nCh",
                "end_offset": 1024,
                "page_index": 0,
                "start_offset": 512
              },
              {
                "chunk_index": 2,
                "chunk_text": "ad Stahelski, Basil Iwanyk, and Erica Lee serve in oversight roles for the John Wick franchise. 87Eleven Productions, Thunder Road Films, and Lionsgate produce the franchise.\n\n\n== Films ==\n\n\n=== John Wick (2014) ===\n\nJohn Wick is a retired assassin who returns to his old ways after a group of Russian gangsters steal his car and kill his puppy which was given to him by his late wife Helen.\nThe film was developed in 2012, where principal photography began September 25, 2013 and wrapped on December 20, 2013.",
                "end_offset": 1534,
                "page_index": 0,
                "start_offset": 1024
              },
              {
                "chunk_index": 3,
                "chunk_text": "=== John Wick: Chapter 2 (2017) ===\n\nForced to honor a debt from his past life, John Wick is sent to assassinate a target he has no wish to kill, where he faces betrayal at the hands of his sponsor.\nPrincipal photography began on October 26, 2015. The film was premiered in February 2017.\n\n\n=== John Wick: Chapter 3 – Parabellum (2019) ===\n\nJohn Wick is declared excommunicado after killing an international crime lord on Continental grounds, where he sets out to save himself from bounty hunters and assassins.",
                "end_offset": 2048,
                "page_index": 0,
                "start_offset": 1537
              },
              {
                "chunk_index": 4,
                "chunk_text": "The third film was announced in October 2016, production began in early 2018 and was released in May 2019.\n\n\n=== John Wick: Chapter 4 (2023) ===\n\nJohn Wick takes his fight against the High Table global as he seeks out more powerful players in the underworld from different countries.\nIn May 2019, prior to the release of John Wick: Chapter 3 – Parabellum, Chad Stahelski confirmed on a Reddit \"Ask Me Anything\" thread that there has been discussion of another film. Keanu Reeves has also stated that he would co",
                "end_offset": 2560,
                "page_index": 0,
                "start_offset": 2049
              },
              {
                "chunk_index": 5,
                "chunk_text": "ntinue as long as the films are successful. Lionsgate announced the film during John Wick 3's opening week, with a scheduled release date of May 21, 2021. However, in April 2020, during an interview with Collider, Stahelski revealed that the film would most likely not make its 2021 release date due to his commitment to The Matrix Resurrections. He also revealed, during the same interview, that a 100-page \"scriptment\" (part script/part outline) had been written for the film. The screenplay was written by Sha",
                "end_offset": 3072,
                "page_index": 0,
                "start_offset": 2560
              },
              {
                "chunk_index": 6,
                "chunk_text": "y Hatten and Michael Finch, as the studio decided to move on from series creator Derek Kolstad. Production was due to commence in June 2021 in Paris and Berlin, with additional filming in Japan and New York City. Partly due to the COVID-19 pandemic, the film was released on March 24, 2023. In June 2021, Donnie Yen, Rina Sawayama, Shamier Anderson, Bill Skarsgård  and Hiroyuki Sanada joined the cast. Principal photography began on June 28, 2021. In October 2021, principal photography had wrapped.\n\n\n=== From",
                "end_offset": 3583,
                "page_index": 0,
                "start_offset": 3072
              },
              {
                "chunk_index": 7,
                "chunk_text": "the World of John Wick: Ballerina (2025) ===\n\nIn July 2017, Lionsgate announced the development of a spin-off film written by Shay Hatten and titled Ballerina. The studio intends to expand the franchise with installments set within the same fictional world. The story, written as a spec script based on Hatten's love for the John Wick films before being purchased by Lionsgate, involves a young woman who is raised t",
                "end_offset": 4000,
                "page_index": 0,
                "start_offset": 3584
              },
              {
                "chunk_index": 0,
                "chunk_text": "John Wick is a 2014 American action thriller film directed by Chad Stahelski and written by Derek Kolstad. Keanu Reeves stars as John Wick, a legendary hitman who comes out of retirement to seek revenge against the men who killed his dog, a final gift from his recently deceased wife. The film also stars Michael Nyqvist, Alfie Allen, Adrianne Palicki, Bridget Moynahan, Dean Winters, Ian McShane, John Leguizamo, and Willem Dafoe.\nKolstad's script drew on his interest in action, revenge, and neo noir films. Th",
                "end_offset": 512,
                "page_index": 1,
                "start_offset": 0
              },
              {
                "chunk_index": 1,
                "chunk_text": "e producer Basil Iwanyk purchased the rights as his first independent film production. Reeves, whose career was declining, liked the script and recommended that the experienced stunt choreographers Stahelski and David Leitch direct the action scenes; Stahelski and Leitch successfully lobbied to co-direct the project. Principal photography began in October 2013, on a $20–$30 million budget, and concluded that December. Stahelski and Leitch focused on long, highly choreographed single takes to convey action,",
                "end_offset": 1023,
                "page_index": 1,
                "start_offset": 512
              },
              {
                "chunk_index": 2,
                "chunk_text": "eschewing the rapid cuts and closeup shots of contemporary action films.\nIwanyk struggled to secure theatrical distributors because industry executives were dismissive of an action film by first-time directors, and Reeves's recent films had financially underperformed. Lionsgate Films purchased the distribution rights to the film two months before its release date on October 24, 2014. Following a successful marketing campaign that changed its perception from disposable entertainment to a prestige event helme",
                "end_offset": 1536,
                "page_index": 1,
                "start_offset": 1024
              },
              {
                "chunk_index": 3,
                "chunk_text": "d by an affable leading actor, John Wick became a surprise box office success, grossing $86 million worldwide. It received generally positive reviews for its style and its action sequences. Critics hailed John Wick as a comeback for Reeves, in a role that played to his acting strengths. The film's mythology of a criminal underworld with rituals and rules was praised as its most distinctive and interesting feature.\nJohn Wick began a successful franchise which includes three sequels (John Wick: Chapter 2 (201",
                "end_offset": 2048,
                "page_index": 1,
                "start_offset": 1536
              },
              {
                "chunk_index": 4,
                "chunk_text": "7), John Wick: Chapter 3 – Parabellum (2019), and John Wick: Chapter 4 (2023), the prequel television series The Continental (2023), and the spin-off film Ballerina (2025), as well as video games and comic books. It is seen as having revitalized the action genre and popularized long single takes with choreographed, detailed action.\n\n\n== Plot ==\nIn New York City, John Wick is grieving the death of his wife Helen, who had arranged for him to receive a beagle puppy, Daisy, to help cope with his loss. A few day",
                "end_offset": 2560,
                "page_index": 1,
                "start_offset": 2048
              },
              {
                "chunk_index": 5,
                "chunk_text": "s later, a group of Russian gangsters led by Iosef Tarasov accost John at a gas station and fail to intimidate him into selling them his 1969 Boss 429 Mustang. That night, they break into John's home, assault him, kill the puppy, and steal the car. Iosef takes the Mustang to a chop shop to remove its identifying details, but the shop owner, Aurelio, recognizes it and refuses service. Aurelio informs John that Iosef is the son of Viggo Tarasov, the boss of New York City's Russian Mafia.\nUpon learning of his",
                "end_offset": 3071,
                "page_index": 1,
                "start_offset": 2560
              },
              {
                "chunk_index": 6,
                "chunk_text": "son's actions, Viggo berates Iosef for incurring John's wrath. He reveals John was once a hitman in his employ, and was renowned and feared in the criminal underworld as the \"Baba Yaga\", a ruthless, relentless \"man of focus, commitment, and sheer will\". After John fell in love with Helen, a civilian, Viggo gave him a seemingly impossible task to earn his freedom; he succeeded.\nJohn recovers a concealed stash from his former career that includes weapons and gold coins. He rejects Viggo's attempt to make amen",
                "end_offset": 3584,
                "page_index": 1,
                "start_offset": 3072
              },
              {
                "chunk_index": 7,
                "chunk_text": "ds and kills the hit squad subsequently sent to his home. Viggo puts a $2 million bounty on John and enlists John's former mentor, Marcus, to kill him. John lodges at the Continental, a luxurious hotel that serves as neutral ground for the underworld and where conducting criminal business is strictly forbidden. Winston, the hotel's owner and John's old friend, informs him that Iosef is at a nightclub called Red C",
                "end_offset": 4000,
                "page_index": 1,
                "start_offset": 3584
              }
            ],
            "command": "",
            "current_doc_index": 0,
            "current_step": 1,
            "document_preview": "<span style=\"background-color:rgba(227, 252, 247, 1)\">John Wick is an American media franchise created by Derek Kolstad. It centers on a neo-noir action thriller film series featuring titular character portrayed by Keanu Reeves. Wick is a legendary hitman who is reluctantly drawn back into the criminal underworld after retiring. The franchise began with the release of John Wick (2014), which was followed by three sequels: Chapter 2 (2017), Chapter 3 – Parabellum (2019), and Chapter 4 (2023). Various spin-offs expanded the franchise: the prequel comic book seri</span><span style=\"background-color:rgba(249, 235, 255, 0.9)\">es John Wick: The Book of Rules (2017–2019), the prequel television miniseries The Continental (2023), and the spinoff film Ballerina (2025), all incorporating elements of alternate history.\nThe films have received critical acclaim, and have been considered one of the greatest action film series of all time. Some critics and publications consider the first film, as well as Chapter 4, as two of the greatest action films ever made. The films have earned a collective gross of more than $1 billion worldwide.\nCh</span><span style=\"background-color:rgba(0, 210, 255, 0.3)\">ad Stahelski, Basil Iwanyk, and Erica Lee serve in oversight roles for the John Wick franchise. 87Eleven Productions, Thunder Road Films, and Lionsgate produce the franchise.\n\n\n== Films ==\n\n\n=== John Wick (2014) ===\n\nJohn Wick is a retired assassin who returns to his old ways after a group of Russian gangsters steal his car and kill his puppy which was given to him by his late wife Helen.\nThe film was developed in 2012, where principal photography began September 25, 2013 and wrapped on December 20, 2013.</span><span >\n\n\n</span><span style=\"background-color:rgba(233, 255, 153, 0.7)\">=== John Wick: Chapter 2 (2017) ===\n\nForced to honor a debt from his past life, John Wick is sent to assassinate a target he has no wish to kill, where he faces betrayal at the hands of his sponsor.\nPrincipal photography began on October 26, 2015. The film was premiered in February 2017.\n\n\n=== John Wick: Chapter 3 – Parabellum (2019) ===\n\nJohn Wick is declared excommunicado after killing an international crime lord on Continental grounds, where he sets out to save himself from bounty hunters and assassins.</span><span >\n</span><span style=\"background-color:rgba(0, 110, 255, 0.3)\">The third film was announced in October 2016, production began in early 2018 and was released in May 2019.\n\n\n=== John Wick: Chapter 4 (2023) ===\n\nJohn Wick takes his fight against the High Table global as he seeks out more powerful players in the underworld from different countries.\nIn May 2019, prior to the release of John Wick: Chapter 3 – Parabellum, Chad Stahelski confirmed on a Reddit \"Ask Me Anything\" thread that there has been discussion of another film. Keanu Reeves has also stated that he would co</span><span style=\"background-color:rgba(227, 252, 247, 1)\">ntinue as long as the films are successful. Lionsgate announced the film during John Wick 3's opening week, with a scheduled release date of May 21, 2021. However, in April 2020, during an interview with Collider, Stahelski revealed that the film would most likely not make its 2021 release date due to his commitment to The Matrix Resurrections. He also revealed, during the same interview, that a 100-page \"scriptment\" (part script/part outline) had been written for the film. The screenplay was written by Sha</span><span style=\"background-color:rgba(249, 235, 255, 0.9)\">y Hatten and Michael Finch, as the studio decided to move on from series creator Derek Kolstad. Production was due to commence in June 2021 in Paris and Berlin, with additional filming in Japan and New York City. Partly due to the COVID-19 pandemic, the film was released on March 24, 2023. In June 2021, Donnie Yen, Rina Sawayama, Shamier Anderson, Bill Skarsgård  and Hiroyuki Sanada joined the cast. Principal photography began on June 28, 2021. In October 2021, principal photography had wrapped.\n\n\n=== From</span><span > </span><span style=\"background-color:rgba(0, 210, 255, 0.3)\">the World of John Wick: Ballerina (2025) ===\n\nIn July 2017, Lionsgate announced the development of a spin-off film written by Shay Hatten and titled Ballerina. The studio intends to expand the franchise with installments set within the same fictional world. The story, written as a spec script based on Hatten's love for the John Wick films before being purchased by Lionsgate, involves a young woman who is raised t</span>",
            "embedding_ready": false,
            "embeddings_table": [
              {
                "chunk_index": 0,
                "chunk_text": "John Wick is an American media franchise created by Derek Kolstad. It centers on a neo-noir action thriller film series featuring titular character portrayed by Keanu Reeves. Wick is a legendary hitman who is reluctantly drawn back into the criminal underworld after retiring. The franchise began with the release of John Wick (2014), which was followed by three sequels: Chapter 2 (2017), Chapter 3 – Parabellum (2019), and Chapter 4 (2023). Various spin-offs expanded the franchise: the prequel comic book seri",
                "end_offset": 512,
                "page_index": 0,
                "start_offset": 0
              },
              {
                "chunk_index": 1,
                "chunk_text": "es John Wick: The Book of Rules (2017–2019), the prequel television miniseries The Continental (2023), and the spinoff film Ballerina (2025), all incorporating elements of alternate history.\nThe films have received critical acclaim, and have been considered one of the greatest action film series of all time. Some critics and publications consider the first film, as well as Chapter 4, as two of the greatest action films ever made. The films have earned a collective gross of more than $1 billion worldwide.\nCh",
                "end_offset": 1024,
                "page_index": 0,
                "start_offset": 512
              },
              {
                "chunk_index": 2,
                "chunk_text": "ad Stahelski, Basil Iwanyk, and Erica Lee serve in oversight roles for the John Wick franchise. 87Eleven Productions, Thunder Road Films, and Lionsgate produce the franchise.\n\n\n== Films ==\n\n\n=== John Wick (2014) ===\n\nJohn Wick is a retired assassin who returns to his old ways after a group of Russian gangsters steal his car and kill his puppy which was given to him by his late wife Helen.\nThe film was developed in 2012, where principal photography began September 25, 2013 and wrapped on December 20, 2013.",
                "end_offset": 1534,
                "page_index": 0,
                "start_offset": 1024
              },
              {
                "chunk_index": 3,
                "chunk_text": "=== John Wick: Chapter 2 (2017) ===\n\nForced to honor a debt from his past life, John Wick is sent to assassinate a target he has no wish to kill, where he faces betrayal at the hands of his sponsor.\nPrincipal photography began on October 26, 2015. The film was premiered in February 2017.\n\n\n=== John Wick: Chapter 3 – Parabellum (2019) ===\n\nJohn Wick is declared excommunicado after killing an international crime lord on Continental grounds, where he sets out to save himself from bounty hunters and assassins.",
                "end_offset": 2048,
                "page_index": 0,
                "start_offset": 1537
              },
              {
                "chunk_index": 4,
                "chunk_text": "The third film was announced in October 2016, production began in early 2018 and was released in May 2019.\n\n\n=== John Wick: Chapter 4 (2023) ===\n\nJohn Wick takes his fight against the High Table global as he seeks out more powerful players in the underworld from different countries.\nIn May 2019, prior to the release of John Wick: Chapter 3 – Parabellum, Chad Stahelski confirmed on a Reddit \"Ask Me Anything\" thread that there has been discussion of another film. Keanu Reeves has also stated that he would co",
                "end_offset": 2560,
                "page_index": 0,
                "start_offset": 2049
              },
              {
                "chunk_index": 5,
                "chunk_text": "ntinue as long as the films are successful. Lionsgate announced the film during John Wick 3's opening week, with a scheduled release date of May 21, 2021. However, in April 2020, during an interview with Collider, Stahelski revealed that the film would most likely not make its 2021 release date due to his commitment to The Matrix Resurrections. He also revealed, during the same interview, that a 100-page \"scriptment\" (part script/part outline) had been written for the film. The screenplay was written by Sha",
                "end_offset": 3072,
                "page_index": 0,
                "start_offset": 2560
              },
              {
                "chunk_index": 6,
                "chunk_text": "y Hatten and Michael Finch, as the studio decided to move on from series creator Derek Kolstad. Production was due to commence in June 2021 in Paris and Berlin, with additional filming in Japan and New York City. Partly due to the COVID-19 pandemic, the film was released on March 24, 2023. In June 2021, Donnie Yen, Rina Sawayama, Shamier Anderson, Bill Skarsgård  and Hiroyuki Sanada joined the cast. Principal photography began on June 28, 2021. In October 2021, principal photography had wrapped.\n\n\n=== From",
                "end_offset": 3583,
                "page_index": 0,
                "start_offset": 3072
              },
              {
                "chunk_index": 7,
                "chunk_text": "the World of John Wick: Ballerina (2025) ===\n\nIn July 2017, Lionsgate announced the development of a spin-off film written by Shay Hatten and titled Ballerina. The studio intends to expand the franchise with installments set within the same fictional world. The story, written as a spec script based on Hatten's love for the John Wick films before being purchased by Lionsgate, involves a young woman who is raised t",
                "end_offset": 4000,
                "page_index": 0,
                "start_offset": 3584
              },
              {
                "chunk_index": 0,
                "chunk_text": "John Wick is a 2014 American action thriller film directed by Chad Stahelski and written by Derek Kolstad. Keanu Reeves stars as John Wick, a legendary hitman who comes out of retirement to seek revenge against the men who killed his dog, a final gift from his recently deceased wife. The film also stars Michael Nyqvist, Alfie Allen, Adrianne Palicki, Bridget Moynahan, Dean Winters, Ian McShane, John Leguizamo, and Willem Dafoe.\nKolstad's script drew on his interest in action, revenge, and neo noir films. Th",
                "end_offset": 512,
                "page_index": 1,
                "start_offset": 0
              },
              {
                "chunk_index": 1,
                "chunk_text": "e producer Basil Iwanyk purchased the rights as his first independent film production. Reeves, whose career was declining, liked the script and recommended that the experienced stunt choreographers Stahelski and David Leitch direct the action scenes; Stahelski and Leitch successfully lobbied to co-direct the project. Principal photography began in October 2013, on a $20–$30 million budget, and concluded that December. Stahelski and Leitch focused on long, highly choreographed single takes to convey action,",
                "end_offset": 1023,
                "page_index": 1,
                "start_offset": 512
              },
              {
                "chunk_index": 2,
                "chunk_text": "eschewing the rapid cuts and closeup shots of contemporary action films.\nIwanyk struggled to secure theatrical distributors because industry executives were dismissive of an action film by first-time directors, and Reeves's recent films had financially underperformed. Lionsgate Films purchased the distribution rights to the film two months before its release date on October 24, 2014. Following a successful marketing campaign that changed its perception from disposable entertainment to a prestige event helme",
                "end_offset": 1536,
                "page_index": 1,
                "start_offset": 1024
              },
              {
                "chunk_index": 3,
                "chunk_text": "d by an affable leading actor, John Wick became a surprise box office success, grossing $86 million worldwide. It received generally positive reviews for its style and its action sequences. Critics hailed John Wick as a comeback for Reeves, in a role that played to his acting strengths. The film's mythology of a criminal underworld with rituals and rules was praised as its most distinctive and interesting feature.\nJohn Wick began a successful franchise which includes three sequels (John Wick: Chapter 2 (201",
                "end_offset": 2048,
                "page_index": 1,
                "start_offset": 1536
              },
              {
                "chunk_index": 4,
                "chunk_text": "7), John Wick: Chapter 3 – Parabellum (2019), and John Wick: Chapter 4 (2023), the prequel television series The Continental (2023), and the spin-off film Ballerina (2025), as well as video games and comic books. It is seen as having revitalized the action genre and popularized long single takes with choreographed, detailed action.\n\n\n== Plot ==\nIn New York City, John Wick is grieving the death of his wife Helen, who had arranged for him to receive a beagle puppy, Daisy, to help cope with his loss. A few day",
                "end_offset": 2560,
                "page_index": 1,
                "start_offset": 2048
              },
              {
                "chunk_index": 5,
                "chunk_text": "s later, a group of Russian gangsters led by Iosef Tarasov accost John at a gas station and fail to intimidate him into selling them his 1969 Boss 429 Mustang. That night, they break into John's home, assault him, kill the puppy, and steal the car. Iosef takes the Mustang to a chop shop to remove its identifying details, but the shop owner, Aurelio, recognizes it and refuses service. Aurelio informs John that Iosef is the son of Viggo Tarasov, the boss of New York City's Russian Mafia.\nUpon learning of his",
                "end_offset": 3071,
                "page_index": 1,
                "start_offset": 2560
              },
              {
                "chunk_index": 6,
                "chunk_text": "son's actions, Viggo berates Iosef for incurring John's wrath. He reveals John was once a hitman in his employ, and was renowned and feared in the criminal underworld as the \"Baba Yaga\", a ruthless, relentless \"man of focus, commitment, and sheer will\". After John fell in love with Helen, a civilian, Viggo gave him a seemingly impossible task to earn his freedom; he succeeded.\nJohn recovers a concealed stash from his former career that includes weapons and gold coins. He rejects Viggo's attempt to make amen",
                "end_offset": 3584,
                "page_index": 1,
                "start_offset": 3072
              },
              {
                "chunk_index": 7,
                "chunk_text": "ds and kills the hit squad subsequently sent to his home. Viggo puts a $2 million bounty on John and enlists John's former mentor, Marcus, to kill him. John lodges at the Continental, a luxurious hotel that serves as neutral ground for the underworld and where conducting criminal business is strictly forbidden. Winston, the hotel's owner and John's old friend, informs him that Iosef is at a nightclub called Red C",
                "end_offset": 4000,
                "page_index": 1,
                "start_offset": 3584
              }
            ],
            "error": "",
            "layout": "IPY_MODEL_7760d87fa3584f40829d53df4f788ffe",
            "loaded_in_mongo": true,
            "mongo_docs_table": [
              {
                "_id": "68228669c862a2e4546af9d5",
                "embedding": [
                  0.028085678815841675,
                  -0.012284109368920326,
                  0.04477040842175484,
                  0.039044711738824844,
                  0.015940209850668907,
                  "..."
                ],
                "text": "John Wick is an American media franchise created by Derek Ko..."
              },
              {
                "_id": "68228669c862a2e4546af9d6",
                "embedding": [
                  0.0066183521412312984,
                  0.024486389011144638,
                  0.035276852548122406,
                  0.0800091028213501,
                  0.07291543483734131,
                  "..."
                ],
                "text": "es John Wick: The Book of Rules (2017–2019), the prequel tel..."
              },
              {
                "_id": "68228669c862a2e4546af9d7",
                "embedding": [
                  0.015018472447991371,
                  0.02634194679558277,
                  0.05511431396007538,
                  0.0746980607509613,
                  0.08594733476638794,
                  "..."
                ],
                "text": "ad Stahelski, Basil Iwanyk, and Erica Lee serve in oversight..."
              },
              {
                "_id": "68228669c862a2e4546af9d8",
                "embedding": [
                  0.018459076061844826,
                  0.0762181505560875,
                  0.021905604749917984,
                  0.04070556163787842,
                  0.05639700964093208,
                  "..."
                ],
                "text": "=== John Wick: Chapter 2 (2017) ===\n\nForced to honor a debt ..."
              },
              {
                "_id": "68228669c862a2e4546af9d9",
                "embedding": [
                  -0.008167938329279423,
                  0.06415756791830063,
                  0.007923267781734467,
                  0.07574253529310226,
                  0.021466484293341637,
                  "..."
                ],
                "text": "The third film was announced in October 2016, production beg..."
              },
              {
                "_id": "68228669c862a2e4546af9da",
                "embedding": [
                  -0.018569257110357285,
                  -0.038322895765304565,
                  0.0578296035528183,
                  0.04918871074914932,
                  0.02770441211760044,
                  "..."
                ],
                "text": "ntinue as long as the films are successful. Lionsgate announ..."
              },
              {
                "_id": "68228669c862a2e4546af9db",
                "embedding": [
                  -0.044552307575941086,
                  0.003941815346479416,
                  0.02565675601363182,
                  0.011838619597256184,
                  0.02733256109058857,
                  "..."
                ],
                "text": "y Hatten and Michael Finch, as the studio decided to move on..."
              },
              {
                "_id": "68228669c862a2e4546af9dc",
                "embedding": [
                  -0.00819008145481348,
                  -0.040776513516902924,
                  0.07035590708255768,
                  0.10024897009134293,
                  0.030478375032544136,
                  "..."
                ],
                "text": "the World of John Wick: Ballerina (2025) ===\n\nIn July 2017, ..."
              },
              {
                "_id": "68228669c862a2e4546af9dd",
                "embedding": [
                  0.026149310171604156,
                  -0.020239446312189102,
                  0.06883541494607925,
                  0.034013014286756516,
                  0.03186902403831482,
                  "..."
                ],
                "text": "John Wick is a 2014 American action thriller film directed b..."
              },
              {
                "_id": "68228669c862a2e4546af9de",
                "embedding": [
                  0.03222949802875519,
                  0.054150547832250595,
                  0.03393425792455673,
                  0.03824545070528984,
                  0.00420173816382885,
                  "..."
                ],
                "text": "e producer Basil Iwanyk purchased the rights as his first in..."
              },
              {
                "_id": "68228669c862a2e4546af9df",
                "embedding": [
                  0.04687536135315895,
                  0.005687322933226824,
                  0.05869956314563751,
                  -0.003634820459410548,
                  0.016840294003486633,
                  "..."
                ],
                "text": "eschewing the rapid cuts and closeup shots of contemporary a..."
              },
              {
                "_id": "68228669c862a2e4546af9e0",
                "embedding": [
                  -0.04504295438528061,
                  0.007206659764051437,
                  0.11834634840488434,
                  0.07596246153116226,
                  0.03312855213880539,
                  "..."
                ],
                "text": "d by an affable leading actor, John Wick became a surprise b..."
              },
              {
                "_id": "68228669c862a2e4546af9e1",
                "embedding": [
                  -0.021367987617850304,
                  0.06939445436000824,
                  0.05148318037390709,
                  0.05762720853090286,
                  0.027222882956266403,
                  "..."
                ],
                "text": "7), John Wick: Chapter 3 – Parabellum (2019), and John Wick:..."
              },
              {
                "_id": "68228669c862a2e4546af9e2",
                "embedding": [
                  -0.005983852781355381,
                  0.04124705493450165,
                  0.023287832736968994,
                  0.04023138806223869,
                  0.04574733227491379,
                  "..."
                ],
                "text": "s later, a group of Russian gangsters led by Iosef Tarasov a..."
              },
              {
                "_id": "68228669c862a2e4546af9e3",
                "embedding": [
                  -0.02069626934826374,
                  -0.018730968236923218,
                  0.05543498694896698,
                  -0.010137750767171383,
                  -0.018497664481401443,
                  "..."
                ],
                "text": "son's actions, Viggo berates Iosef for incurring John's wrat..."
              },
              {
                "_id": "68228669c862a2e4546af9e4",
                "embedding": [
                  0.002450112020596862,
                  0.017768027260899544,
                  -0.006127460394054651,
                  0.016217457130551338,
                  0.014644532464444637,
                  "..."
                ],
                "text": "ds and kills the hit squad subsequently sent to his home. Vi..."
              }
            ],
            "overlap_size": 0,
            "rag_answer": "There are four John Wick movies. The franchise began with John Wick (2014) and was followed by three sequels: John Wick: Chapter 2 (2017), John Wick: Chapter 3 – Parabellum (2019), and John Wick: Chapter 4 (2023).",
            "rag_prompt": "<context>\nd by an affable leading actor, John Wick became a surprise box office success, grossing $86 million worldwide. It received generally positive reviews for its style and its action sequences. Critics hailed John Wick as a comeback for Reeves, in a role that played to his acting strengths. The film's mythology of a criminal underworld with rituals and rules was praised as its most distinctive and interesting feature.\nJohn Wick began a successful franchise which includes three sequels (John Wick: Chapter 2 (201\n\nes John Wick: The Book of Rules (2017–2019), the prequel television miniseries The Continental (2023), and the spinoff film Ballerina (2025), all incorporating elements of alternate history.\nThe films have received critical acclaim, and have been considered one of the greatest action film series of all time. Some critics and publications consider the first film, as well as Chapter 4, as two of the greatest action films ever made. The films have earned a collective gross of more than $1 billion worldwide.\nCh\n\nJohn Wick is an American media franchise created by Derek Kolstad. It centers on a neo-noir action thriller film series featuring titular character portrayed by Keanu Reeves. Wick is a legendary hitman who is reluctantly drawn back into the criminal underworld after retiring. The franchise began with the release of John Wick (2014), which was followed by three sequels: Chapter 2 (2017), Chapter 3 – Parabellum (2019), and Chapter 4 (2023). Various spin-offs expanded the franchise: the prequel comic book seri\n\nThe third film was announced in October 2016, production began in early 2018 and was released in May 2019.\n\n\n=== John Wick: Chapter 4 (2023) ===\n\nJohn Wick takes his fight against the High Table global as he seeks out more powerful players in the underworld from different countries.\nIn May 2019, prior to the release of John Wick: Chapter 3 – Parabellum, Chad Stahelski confirmed on a Reddit \"Ask Me Anything\" thread that there has been discussion of another film. Keanu Reeves has also stated that he would co\n\nJohn Wick is a 2014 American action thriller film directed by Chad Stahelski and written by Derek Kolstad. Keanu Reeves stars as John Wick, a legendary hitman who comes out of retirement to seek revenge against the men who killed his dog, a final gift from his recently deceased wife. The film also stars Michael Nyqvist, Alfie Allen, Adrianne Palicki, Bridget Moynahan, Dean Winters, Ian McShane, John Leguizamo, and Willem Dafoe.\nKolstad's script drew on his interest in action, revenge, and neo noir films. Th\n</context>\n<question>How Many John Wick movies are there</question>\n<instructions>Answer the user QUESTION using the CONTEXT text above.\nKeep your answer grounded in the facts of the CONTEXT.\nIf the CONTEXT doesn’t contain the facts to answer the QUESTION, respond that you don't know.</instructions>",
            "rag_prompt_template": "<context>\n{context}\n</context>\n<question>{question}</question>\n<instructions>Answer the user QUESTION using the CONTEXT text above.\nKeep your answer grounded in the facts of the CONTEXT.\nIf the CONTEXT doesn’t contain the facts to answer the QUESTION, respond that you don't know.</instructions>",
            "rag_query": "How Many John Wick movies are there",
            "rag_results": [
              {
                "content": "d by an affable leading actor, John Wick became a surprise box office success, grossing $86 million worldwide. It received generally positive reviews for its style and its action sequences. Critics hailed John Wick as a comeback for Reeves, in a role that played to his acting strengths. The film's mythology of a criminal underworld with rituals and rules was praised as its most distinctive and interesting feature.\nJohn Wick began a successful franchise which includes three sequels (John Wick: Chapter 2 (201",
                "metadata": {
                  "_id": "68228669c862a2e4546af9e0"
                },
                "score": 0.8264437913894653
              },
              {
                "content": "es John Wick: The Book of Rules (2017–2019), the prequel television miniseries The Continental (2023), and the spinoff film Ballerina (2025), all incorporating elements of alternate history.\nThe films have received critical acclaim, and have been considered one of the greatest action film series of all time. Some critics and publications consider the first film, as well as Chapter 4, as two of the greatest action films ever made. The films have earned a collective gross of more than $1 billion worldwide.\nCh",
                "metadata": {
                  "_id": "68228669c862a2e4546af9d6"
                },
                "score": 0.8201819658279419
              },
              {
                "content": "John Wick is an American media franchise created by Derek Kolstad. It centers on a neo-noir action thriller film series featuring titular character portrayed by Keanu Reeves. Wick is a legendary hitman who is reluctantly drawn back into the criminal underworld after retiring. The franchise began with the release of John Wick (2014), which was followed by three sequels: Chapter 2 (2017), Chapter 3 – Parabellum (2019), and Chapter 4 (2023). Various spin-offs expanded the franchise: the prequel comic book seri",
                "metadata": {
                  "_id": "68228669c862a2e4546af9d5"
                },
                "score": 0.819618821144104
              },
              {
                "content": "The third film was announced in October 2016, production began in early 2018 and was released in May 2019.\n\n\n=== John Wick: Chapter 4 (2023) ===\n\nJohn Wick takes his fight against the High Table global as he seeks out more powerful players in the underworld from different countries.\nIn May 2019, prior to the release of John Wick: Chapter 3 – Parabellum, Chad Stahelski confirmed on a Reddit \"Ask Me Anything\" thread that there has been discussion of another film. Keanu Reeves has also stated that he would co",
                "metadata": {
                  "_id": "68228669c862a2e4546af9d9"
                },
                "score": 0.81193608045578
              },
              {
                "content": "John Wick is a 2014 American action thriller film directed by Chad Stahelski and written by Derek Kolstad. Keanu Reeves stars as John Wick, a legendary hitman who comes out of retirement to seek revenge against the men who killed his dog, a final gift from his recently deceased wife. The film also stars Michael Nyqvist, Alfie Allen, Adrianne Palicki, Bridget Moynahan, Dean Winters, Ian McShane, John Leguizamo, and Willem Dafoe.\nKolstad's script drew on his interest in action, revenge, and neo noir films. Th",
                "metadata": {
                  "_id": "68228669c862a2e4546af9dd"
                },
                "score": 0.8052113056182861
              }
            ],
            "rag_sub_tab": 3,
            "selected_index": "vector_index",
            "split_strategy": "Fixed",
            "vector_indexes": [
              "vector_index"
            ]
          }
        }
      }
    }
  },
  "nbformat": 4,
  "nbformat_minor": 0
}
